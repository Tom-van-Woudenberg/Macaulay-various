{
 "cells": [
  {
   "cell_type": "code",
   "execution_count": 1,
   "metadata": {},
   "outputs": [],
   "source": [
    "import sympy as sp\n",
    "import numpy as np\n",
    "from sympy import symbols\n",
    "sf = sp.SingularityFunction\n",
    "import matplotlib.pyplot as plt"
   ]
  },
  {
   "cell_type": "code",
   "execution_count": 2,
   "metadata": {},
   "outputs": [],
   "source": [
    "E, I = symbols('E, I')\n",
    "x = symbols('x')"
   ]
  },
  {
   "cell_type": "code",
   "execution_count": 3,
   "metadata": {},
   "outputs": [
    {
     "name": "stdout",
     "output_type": "stream",
     "text": [
      "Solution in the x-direction:\n",
      "dV/dx = -qx*sin(theta)*tan(theta) - qz*cos(theta)\n",
      "dN/dx = (-qx + qz)*sin(theta)\n"
     ]
    }
   ],
   "source": [
    "## het oplossen van differentiaal vergelijking\n",
    "\n",
    "## in x-richting\n",
    "\n",
    "# Define the symbols\n",
    "cv, cn, qx, qz, theta = sp.symbols('cv, cn, qx, qz, theta')  ## cv = dv/dx, cn = dn/dx\n",
    "\n",
    "# Define the equations\n",
    "eq1 = (qx * sp.tan(theta)) + (sp.sin(theta) * cv) + (sp.cos(theta) * cn)\n",
    "eq2 = (qz) + (sp.cos(theta) * cv) - (sp.sin(theta) * cn)\n",
    "\n",
    "# Solve the system of equations\n",
    "solution = sp.solve((eq1, eq2), (cv, cn))\n",
    "\n",
    "# Display the solution\n",
    "print(\"Solution in the x-direction:\")\n",
    "print(\"dV/dx =\", solution[cv])\n",
    "print(\"dN/dx =\", solution[cn])"
   ]
  },
  {
   "cell_type": "code",
   "execution_count": 4,
   "metadata": {},
   "outputs": [
    {
     "name": "stdout",
     "output_type": "stream",
     "text": [
      "Solution in z-direction:\n",
      "dV/dz = -qx*sin(theta) + qz*sin(theta) - qz/sin(theta)\n",
      "dN/dz = (-qx + qz)*cos(theta)\n"
     ]
    }
   ],
   "source": [
    "##  in z-ricting\n",
    "\n",
    "# Define the symbols\n",
    "cv_z, cn_z, qx, qz, theta = sp.symbols('cv_z cn_z qx qz theta')\n",
    "\n",
    "# Define the equations\n",
    "eq1 = (qx) + (sp.sin(theta) * cv_z) + (sp.cos(theta) * cn_z)\n",
    "eq2 = (qz / (sp.tan(theta))) + (sp.cos(theta) * cv_z) - (sp.sin(theta) * cn_z)\n",
    "\n",
    "# Solve the system of equations\n",
    "solution = sp.solve((eq1, eq2), (cv_z, cn_z))\n",
    "\n",
    "# Display the solution\n",
    "print(\"Solution in z-direction:\")\n",
    "print(\"dV/dz =\", solution[cv_z])\n",
    "print(\"dN/dz =\", solution[cn_z])"
   ]
  },
  {
   "cell_type": "code",
   "execution_count": 5,
   "metadata": {},
   "outputs": [
    {
     "name": "stdout",
     "output_type": "stream",
     "text": [
      "V: 0.894427190999916*Av*SingularityFunction(x, 0, 0) + 0.894427190999916*Bv*SingularityFunction(x, 4, 0) + Cv - 8.94427190999916*SingularityFunction(x, 2.0, 0)\n",
      "M: 1.0*Av*SingularityFunction(x, 0, 1) + 1.0*Bv*SingularityFunction(x, 4, 1) + Cm + 1.11803398874989*Cv*x - 10.0*SingularityFunction(x, 2.0, 1)\n",
      "phi: 0.5*Av*SingularityFunction(x, 0, 2) + 0.5*Bv*SingularityFunction(x, 4, 2) + Cm*x + Cphi + 0.559016994374947*Cv*x**2 - 5.0*SingularityFunction(x, 2.0, 2)\n",
      "W: -0.166666666666667*Av*SingularityFunction(x, 0, 3) - 0.166666666666667*Bv*SingularityFunction(x, 4, 3) - Cm*x**2/2 - Cphi*x - 0.186338998124982*Cv*x**3 + Cw + 1.66666666666667*SingularityFunction(x, 2.0, 3)\n"
     ]
    }
   ],
   "source": [
    "## Voorbeeld 1: opgelegd op twee steunpunten\n",
    "\n",
    "Cv, Cm, Cphi, Cw, Av, Bv = sp.symbols('Cv, Cm, Cphi, Cw, Av, Bv')\n",
    "\n",
    "# Define F and l\n",
    "F = 10  ## KN\n",
    "l = 4   ## m\n",
    "theta = sp.atan(1/2)\n",
    "\n",
    "# Define qz and qx\n",
    "qz = -Av * sf(x, 0, -1) + F * sf(x, l/2, -1) - Bv * sf(x, l, -1)\n",
    "qx = 0\n",
    "\n",
    "# Define V as a function of x\n",
    "V1 = sp.cos(theta) * sp.integrate( -qz , x)\n",
    "V2 = sp.integrate(- (sp.sin(theta) * sp.tan(theta) * qx), x) + Cv\n",
    "V = V1 + V2\n",
    "\n",
    "# Define M as an integral of V\n",
    "M = sp.integrate(V / sp.cos(theta), x) + Cm\n",
    "\n",
    "# Define phi as an integral of M\n",
    "phi = sp.integrate(M, x) + Cphi\n",
    "\n",
    "# Define W as an integral of -phi\n",
    "W = sp.integrate(-phi, x) + Cw\n",
    "\n",
    "\n",
    "# Display the expressions\n",
    "print(\"V:\", V)\n",
    "print(\"M:\", M)\n",
    "print(\"phi:\", phi)\n",
    "print(\"W:\", W)"
   ]
  },
  {
   "cell_type": "code",
   "execution_count": 6,
   "metadata": {},
   "outputs": [],
   "source": [
    "## Voorwarden\n",
    "\n",
    "eq1 = V.subs(x, -1)\n",
    "eq2 = V.subs(x, l+1) \n",
    "\n",
    "eq3 = M.subs(x, 0)\n",
    "eq4 = M.subs(x, l)\n",
    "\n",
    "eq5 = W.subs(x, l)\n",
    "eq6 = W.subs(x, 0)\n",
    "\n",
    "equations = [eq1 -0, eq2-0,eq3-0,eq4-0,eq5-0,eq6-0]\n",
    "solutions = sp.solve(equations, (Cv, Cm, Cphi, Cw, Av, Bv))"
   ]
  },
  {
   "cell_type": "code",
   "execution_count": 7,
   "metadata": {},
   "outputs": [
    {
     "name": "stdout",
     "output_type": "stream",
     "text": [
      "{Cv: 0.0, Cm: 0.0, Cphi: -10.0000000000000, Cw: 0.0, Av: 5.00000000000000, Bv: 5.00000000000000}\n"
     ]
    }
   ],
   "source": [
    "print(solutions)"
   ]
  },
  {
   "cell_type": "code",
   "execution_count": 8,
   "metadata": {},
   "outputs": [],
   "source": [
    "Cv, Cm, Cphi, Cw, Av, Bv = 0,0, -10, 0, 5, 5"
   ]
  },
  {
   "cell_type": "code",
   "execution_count": 9,
   "metadata": {},
   "outputs": [
    {
     "data": {
      "image/png": "[encoded data removed]",
      "text/plain": [
       "<Figure size 432x288 with 1 Axes>"
      ]
     },
     "metadata": {
      "needs_background": "light"
     },
     "output_type": "display_data"
    }
   ],
   "source": [
    "x_val = np.linspace(0, l, 301)\n",
    "V_list = []\n",
    "for i in x_val:\n",
    "    V_list.append(sp.cos(theta) * (Av * sf(i, 0, 0) - F * sf(i, l/2, 0) + Bv * sf(i, l, 0)))\n",
    "#print(V_list)\n",
    "#plt.plot(x_val/sp.cos(theta),np.array(V_list));\n",
    "\n",
    "fig = plt.figure()\n",
    "ax = fig.add_subplot(1, 1, 1)\n",
    "ax.set_xlim(0, 5)\n",
    "ax.set_ylim(-6, 10)\n",
    "\n",
    "ax.spines[\"left\"].set_position(\"zero\")\n",
    "ax.spines[\"right\"].set_visible(False)\n",
    "ax.spines[\"bottom\"].set_position(\"zero\")\n",
    "ax.spines[\"top\"].set_visible(False)\n",
    "\n",
    "\n",
    "ax.set_xlabel(\"$V-lijn$\")\n",
    "ax.xaxis.set_label_coords(0.53, 1.04)\n",
    "plt.gca()\n",
    "ax.plot(x_val/sp.cos(theta), np.array(V_list)+ x_val/sp.cos(theta), label='V-lijn')\n",
    "ax.plot(x_val/sp.cos(theta), x_val/sp.cos(theta), label='constructie helling')\n",
    "ax.legend();"
   ]
  },
  {
   "cell_type": "code",
   "execution_count": 10,
   "metadata": {},
   "outputs": [
    {
     "data": {
      "image/png": "[encoded data removed]",
      "text/plain": [
       "<Figure size 432x288 with 1 Axes>"
      ]
     },
     "metadata": {
      "needs_background": "light"
     },
     "output_type": "display_data"
    }
   ],
   "source": [
    "x_val = np.linspace(0, 4, 201)\n",
    "M_list = []\n",
    "for i in x_val:\n",
    "    M_list.append((Av * sf(i, 0, 1) - F * sf(i, l/2, 1) + Bv * sf(i, l, 1)))\n",
    "#print(M_list)\n",
    "#print(M_list)\n",
    "\n",
    "fig = plt.figure()\n",
    "ax = fig.add_subplot(1, 1, 1)\n",
    "ax.set_xlim(0, 5)\n",
    "ax.set_ylim(-10, 10)\n",
    "\n",
    "ax.spines[\"left\"].set_position(\"zero\")\n",
    "ax.spines[\"right\"].set_visible(False)\n",
    "ax.spines[\"bottom\"].set_position(\"zero\")\n",
    "ax.spines[\"top\"].set_visible(False)\n",
    "\n",
    "\n",
    "ax.set_xlabel(\"$M-lijn$\")\n",
    "ax.xaxis.set_label_coords(0.53, 1.04)\n",
    "plt.gca()\n",
    "ax.plot(x_val/sp.cos(theta), -np.array(M_list) + x_val/sp.cos(theta), label='M-lijn')\n",
    "ax.plot(x_val/sp.cos(theta), x_val/sp.cos(theta), label='constructie helling')\n",
    "plt.plot(x_val[100]/sp.cos(theta), - np.max(M_list) + x_val[100]/sp.cos(theta) , 'o', label =f'{np.max(M_list):.0f}')\n",
    "ax.legend();"
   ]
  },
  {
   "cell_type": "code",
   "execution_count": 11,
   "metadata": {},
   "outputs": [
    {
     "data": {
      "image/png": "[encoded data removed]",
      "text/plain": [
       "<Figure size 432x288 with 1 Axes>"
      ]
     },
     "metadata": {
      "needs_background": "light"
     },
     "output_type": "display_data"
    }
   ],
   "source": [
    "x_val = np.linspace(0, 4, 201)\n",
    "phi_list = []\n",
    "for i in x_val:\n",
    "    phi_list.append((Av/2) * sf(i, 0, 2) - (F/2) * sf(i, l/2, 2) + (Bv/2) * sf(i, l, 2) + Cphi)\n",
    "\n",
    "#plt.plot(x_val/sp.cos(theta), np.array(phi_list))\n",
    "\n",
    "fig = plt.figure()\n",
    "ax = fig.add_subplot(1, 1, 1)\n",
    "ax.set_xlim(0, 5)\n",
    "ax.set_ylim(-11, 11)\n",
    "\n",
    "ax.spines[\"left\"].set_position(\"zero\")\n",
    "ax.spines[\"right\"].set_visible(False)\n",
    "ax.spines[\"bottom\"].set_position(\"zero\")\n",
    "ax.spines[\"top\"].set_visible(False)\n",
    "\n",
    "\n",
    "ax.set_xlabel(\"$phi-lijn$\")\n",
    "ax.xaxis.set_label_coords(0.53, 1.04)\n",
    "plt.gca()\n",
    "ax.plot(x_val/sp.cos(theta), np.array(phi_list));"
   ]
  },
  {
   "cell_type": "code",
   "execution_count": 12,
   "metadata": {},
   "outputs": [
    {
     "data": {
      "image/png": "[encoded data removed]",
      "text/plain": [
       "<Figure size 432x288 with 1 Axes>"
      ]
     },
     "metadata": {
      "needs_background": "light"
     },
     "output_type": "display_data"
    }
   ],
   "source": [
    "x_val = np.linspace(0, 4, 201)\n",
    "W_list = []\n",
    "for i in x_val:\n",
    "    W_list.append((-Av/6) * sf(i, 0, 3) + (F/6) * sf(i, l/2, 3) + (Bv/6) * sf(i, l, 3) - Cphi*i)\n",
    "\n",
    "fig = plt.figure()\n",
    "ax = fig.add_subplot(1, 1, 1)\n",
    "ax.set_xlim(0, 5)\n",
    "ax.set_ylim(-15, 7)\n",
    "\n",
    "ax.spines[\"left\"].set_position(\"zero\")\n",
    "ax.spines[\"right\"].set_visible(False)\n",
    "ax.spines[\"bottom\"].set_position(\"zero\")\n",
    "ax.spines[\"top\"].set_visible(False)\n",
    "\n",
    "\n",
    "ax.set_xlabel(\"$W-lijn$\")\n",
    "ax.xaxis.set_label_coords(0.53, 1.04)\n",
    "plt.gca()\n",
    "ax.plot(x_val/sp.cos(theta), - np.array(W_list) +  x_val/sp.cos(theta), label='W-lijn')\n",
    "ax.plot(x_val/sp.cos(theta), x_val/sp.cos(theta), label='constructie helling')\n",
    "plt.plot(x_val[100]/sp.cos(theta), -(np.max(W_list) - x_val[100]/ sp.cos(theta)), 'o')\n",
    "ax.legend();"
   ]
  },
  {
   "cell_type": "code",
   "execution_count": 13,
   "metadata": {},
   "outputs": [
    {
     "name": "stdout",
     "output_type": "stream",
     "text": [
      "V: 0.894427190999916*Av*SingularityFunction(x, 0, 0) + Cv - 0.894427190999916*MA*SingularityFunction(x, 0, -1) - 8.94427190999916*SingularityFunction(x, 4, 0)\n",
      "M: 1.0*Av*SingularityFunction(x, 0, 1) + Cm + 1.11803398874989*Cv*x - 1.0*MA*SingularityFunction(x, 0, 0) - 10.0*SingularityFunction(x, 4, 1)\n",
      "phi: 0.5*Av*SingularityFunction(x, 0, 2) + Cm*x + Cphi + 0.559016994374947*Cv*x**2 - 1.0*MA*SingularityFunction(x, 0, 1) - 5.0*SingularityFunction(x, 4, 2)\n",
      "W: -0.166666666666667*Av*SingularityFunction(x, 0, 3) - Cm*x**2/2 - Cphi*x - 0.186338998124982*Cv*x**3 + Cw + 0.5*MA*SingularityFunction(x, 0, 2) + 1.66666666666667*SingularityFunction(x, 4, 3)\n"
     ]
    }
   ],
   "source": [
    "## voorbeeld 2: ingeklemde liggeer\n",
    "\n",
    "Cv, Cm, Cphi, Cw, Av, MA = sp.symbols('Cv, Cm, Cphi, Cw, Av, MA')\n",
    "\n",
    "# Define F and l\n",
    "F = 10  ## KN\n",
    "l = 4   ## m\n",
    "theta = sp.atan(1/2)\n",
    "\n",
    "# Define qz and qx\n",
    "qz = -Av * sf(x, 0, -1) + MA * sf(x, 0, -2) + F * sf(x, l, -1)\n",
    "qx = 0\n",
    "\n",
    "# Define V as a function of x\n",
    "V1 = sp.cos(theta) * sp.integrate( -qz , x)\n",
    "V2 = sp.integrate(- (sp.sin(theta) * sp.tan(theta) * qx), x) + Cv\n",
    "V = V1 + V2\n",
    "\n",
    "# Define M as an integral of V\n",
    "M = sp.integrate(V / sp.cos(theta), x) + Cm\n",
    "\n",
    "# Define phi as an integral of M\n",
    "phi = sp.integrate(M, x) + Cphi\n",
    "\n",
    "# Define W as an integral of -phi\n",
    "W = sp.integrate(-phi, x) + Cw\n",
    "\n",
    "\n",
    "# Display the expressions\n",
    "print(\"V:\", V)\n",
    "print(\"M:\", M)\n",
    "print(\"phi:\", phi)\n",
    "print(\"W:\", W)"
   ]
  },
  {
   "cell_type": "code",
   "execution_count": 14,
   "metadata": {},
   "outputs": [],
   "source": [
    "eq1 = V.subs(x, -1)\n",
    "eq2 = V.subs(x, l-1) \n",
    "\n",
    "eq3 = M.subs(x, -1)\n",
    "eq4 = M.subs(x, l)\n",
    "\n",
    "eq5 = W.subs(x, 0)\n",
    "eq6 = phi.subs(x, 0)\n",
    "\n",
    "equations = [eq1 -0, eq2- F*sp.cos(theta),eq3-0,eq4-0,eq5-0,eq6-0]\n",
    "solutions = sp.solve(equations, (Cv, Cm, Cphi, Cw, Av, MA))"
   ]
  },
  {
   "cell_type": "code",
   "execution_count": 15,
   "metadata": {},
   "outputs": [
    {
     "name": "stdout",
     "output_type": "stream",
     "text": [
      "{Cv: 0.0, Cm: 0.0, Cphi: 0.0, Cw: 0.0, Av: 10.0000000000000, MA: 40.0000000000000}\n"
     ]
    }
   ],
   "source": [
    "print(solutions)"
   ]
  },
  {
   "cell_type": "code",
   "execution_count": 16,
   "metadata": {},
   "outputs": [],
   "source": [
    "Cv, Cm, Cphi, Cw, Av, MA = 0, 0, 0, 0, 10, 40"
   ]
  },
  {
   "cell_type": "code",
   "execution_count": 17,
   "metadata": {},
   "outputs": [
    {
     "data": {
      "image/png": "[encoded data removed]",
      "text/plain": [
       "<Figure size 432x288 with 1 Axes>"
      ]
     },
     "metadata": {
      "needs_background": "light"
     },
     "output_type": "display_data"
    }
   ],
   "source": [
    "x_val = np.linspace(0, l, 201)\n",
    "\n",
    "V_list = []\n",
    "\n",
    "for i in x_val:\n",
    "    V_list.append(sp.cos(theta) * (Av * sf(i, 0, 0) - MA * sf(i, 0, -1) - F * sf(i, l, 0)) + Cv)\n",
    "\n",
    "fig = plt.figure()\n",
    "ax = fig.add_subplot(1, 1, 1)\n",
    "ax.set_xlim(0, 5)\n",
    "ax.set_ylim(-1, 15)\n",
    "\n",
    "ax.spines[\"left\"].set_position(\"zero\")\n",
    "ax.spines[\"right\"].set_visible(False)\n",
    "ax.spines[\"bottom\"].set_position(\"zero\")\n",
    "ax.spines[\"top\"].set_visible(False)\n",
    "\n",
    "\n",
    "ax.set_xlabel(\"$V-lijn$\")\n",
    "ax.xaxis.set_label_coords(0.53, 1.04)\n",
    "ax.plot(x_val/sp.cos(theta), np.array(V_list)+ x_val/sp.cos(theta), label='V-lijn')\n",
    "ax.plot(x_val/sp.cos(theta), x_val/sp.cos(theta), label='constructie helling')\n",
    "ax.legend();"
   ]
  },
  {
   "cell_type": "code",
   "execution_count": 18,
   "metadata": {},
   "outputs": [
    {
     "data": {
      "image/png": "[encoded data removed]",
      "text/plain": [
       "<Figure size 432x288 with 1 Axes>"
      ]
     },
     "metadata": {
      "needs_background": "light"
     },
     "output_type": "display_data"
    }
   ],
   "source": [
    "x_val = np.linspace(0, 4, 201)\n",
    "M_list = []\n",
    "for i in x_val:\n",
    "    M_list.append(((Av * sf(i, 0, 1) - MA * sf(i, 0, 0) - F * sf(i, l, 1))))\n",
    "\n",
    "\n",
    "fig = plt.figure()\n",
    "ax = fig.add_subplot(1, 1, 1)\n",
    "ax.set_xlim(0, 5)\n",
    "ax.set_ylim(-45, 7)\n",
    "\n",
    "ax.spines[\"left\"].set_position(\"zero\")\n",
    "ax.spines[\"right\"].set_visible(False)\n",
    "ax.spines[\"bottom\"].set_position(\"zero\")\n",
    "ax.spines[\"top\"].set_visible(False)\n",
    "\n",
    "\n",
    "ax.set_xlabel(\"$M-lijn$\")\n",
    "ax.xaxis.set_label_coords(0.53, 1.04)\n",
    "plt.gca()\n",
    "ax.plot(x_val/sp.cos(theta), np.array(M_list) + x_val/sp.cos(theta), label='M-lijn')\n",
    "ax.plot(x_val/sp.cos(theta), x_val/sp.cos(theta), label='constructie helling')\n",
    "ax.legend();"
   ]
  },
  {
   "cell_type": "code",
   "execution_count": 19,
   "metadata": {},
   "outputs": [
    {
     "data": {
      "image/png": "[encoded data removed]",
      "text/plain": [
       "<Figure size 432x288 with 1 Axes>"
      ]
     },
     "metadata": {
      "needs_background": "light"
     },
     "output_type": "display_data"
    }
   ],
   "source": [
    "x_val = np.linspace(0, 4, 501)\n",
    "phi_list = []\n",
    "for i in x_val:\n",
    "    phi_list.append(((Av/2) * sf(i, 0, 2) - MA * sf(i, 0, 1) - (F/2) * sf(i, l, 2) ))\n",
    "#print(phi_list)\n",
    "#plt.plot(x_val/sp.cos(theta), np.array(phi_list))\n",
    "\n",
    "fig = plt.figure()\n",
    "ax = fig.add_subplot(1, 1, 1)\n",
    "ax.set_xlim(0, 5)\n",
    "ax.set_ylim(-90, 5)\n",
    "\n",
    "ax.spines[\"left\"].set_position(\"zero\")\n",
    "ax.spines[\"right\"].set_visible(False)\n",
    "ax.spines[\"bottom\"].set_position(\"zero\")\n",
    "ax.spines[\"top\"].set_visible(False)\n",
    "\n",
    "\n",
    "ax.set_xlabel(\"$phi-lijn$\")\n",
    "ax.xaxis.set_label_coords(0.53, 1.04)\n",
    "plt.gca()\n",
    "ax.plot(x_val/sp.cos(theta), np.array(phi_list));"
   ]
  },
  {
   "cell_type": "code",
   "execution_count": 20,
   "metadata": {},
   "outputs": [
    {
     "data": {
      "image/png": "[encoded data removed]",
      "text/plain": [
       "<Figure size 432x288 with 1 Axes>"
      ]
     },
     "metadata": {
      "needs_background": "light"
     },
     "output_type": "display_data"
    }
   ],
   "source": [
    "x_val = np.linspace(0, 4, 201)\n",
    "W_list = []\n",
    "for i in x_val:\n",
    "    W_list.append(-(Av/6) * sf(i, 0, 3) + MA * sf(i, 0, 2) + (F/6) * sf(i, l, 3))\n",
    "\n",
    "fig = plt.figure()\n",
    "ax = fig.add_subplot(1, 1, 1)\n",
    "ax.set_xlim(0, 5)\n",
    "ax.set_ylim(-600, 30)\n",
    "\n",
    "ax.spines[\"left\"].set_position(\"zero\")\n",
    "ax.spines[\"right\"].set_visible(False)\n",
    "ax.spines[\"bottom\"].set_position(\"zero\")\n",
    "ax.spines[\"top\"].set_visible(False)\n",
    "\n",
    "\n",
    "ax.set_xlabel(\"$W-lijn$\")\n",
    "ax.xaxis.set_label_coords(0.53, 1.04)\n",
    "plt.gca()\n",
    "ax.plot(x_val/sp.cos(theta), - np.array(W_list) );"
   ]
  },
  {
   "cell_type": "code",
   "execution_count": 21,
   "metadata": {},
   "outputs": [
    {
     "name": "stdout",
     "output_type": "stream",
     "text": [
      "V: -0.223606797749979*Ah*SingularityFunction(x, 0, 0) - 0.894427190999916*Av*SingularityFunction(x, 0, 0) + Cv - 0.894427190999916*MA*SingularityFunction(x, 0, -1) + 2.23606797749979*SingularityFunction(x, 4, 0)\n",
      "M: -0.25*Ah*SingularityFunction(x, 0, 1) - 1.0*Av*SingularityFunction(x, 0, 1) + Cm + 1.11803398874989*Cv*x - 1.0*MA*SingularityFunction(x, 0, 0) + 2.5*SingularityFunction(x, 4, 1)\n",
      "phi: -0.125*Ah*SingularityFunction(x, 0, 2) - 0.5*Av*SingularityFunction(x, 0, 2) + Cm*x + Cphi + 0.559016994374947*Cv*x**2 - 1.0*MA*SingularityFunction(x, 0, 1) + 1.25*SingularityFunction(x, 4, 2)\n",
      "W: 0.0416666666666667*Ah*SingularityFunction(x, 0, 3) + 0.166666666666667*Av*SingularityFunction(x, 0, 3) - Cm*x**2/2 - Cphi*x - 0.186338998124982*Cv*x**3 + Cw + 0.5*MA*SingularityFunction(x, 0, 2) - 0.416666666666667*SingularityFunction(x, 4, 3)\n",
      "N: -0.447213595499958*Ah*SingularityFunction(x, 0, 0) + 0.447213595499958*Av*SingularityFunction(x, 0, 0) + Cn + 0.447213595499958*MA*SingularityFunction(x, 0, -1) + 4.47213595499958*SingularityFunction(x, 4, 0)\n"
     ]
    }
   ],
   "source": [
    "## Voorbeeld 3: ingeklemde ligger belast met een horizontale kracht\n",
    "\n",
    "Cv, Cm, Cphi, Cw, Av, MA, Cn, Ah = sp.symbols('Cv, Cm, Cphi, Cw, Av, MA, Cn, Ah ')\n",
    "\n",
    "# Define F and l\n",
    "F = 10  ## KN\n",
    "l = 4   ## m\n",
    "theta = sp.atan(1/2)\n",
    "\n",
    "# Define qz and qx\n",
    "qz = Av * sf(x, 0, -1) + MA * sf(x, 0, -2)\n",
    "qx = Ah * sf(x, 0, -1) - F * sf(x, l, -1)\n",
    "\n",
    "# Define V as a function of x\n",
    "V1 = sp.cos(theta) * sp.integrate( -qz , x)\n",
    "V2 = sp.integrate(-(sp.sin(theta) * sp.tan(theta) * qx), x) + Cv\n",
    "V = V1 + V2\n",
    "\n",
    "# Define M as an integral of V\n",
    "M = sp.integrate(V / sp.cos(theta), x) + Cm\n",
    "\n",
    "# Define phi as an integral of M\n",
    "phi = sp.integrate(M, x) + Cphi\n",
    "\n",
    "# Define W as an integral of -phi\n",
    "W = sp.integrate(-phi, x) + Cw\n",
    "\n",
    "N = sp.integrate(sp.sin(theta) * (-qx + qz), x) + Cn\n",
    "\n",
    "# Display the expressions\n",
    "print(\"V:\", V)\n",
    "print(\"M:\", M)\n",
    "print(\"phi:\", phi)\n",
    "print(\"W:\", W)\n",
    "print(\"N:\", N)"
   ]
  },
  {
   "cell_type": "code",
   "execution_count": 22,
   "metadata": {},
   "outputs": [],
   "source": [
    "eq1 = V.subs(x, -1)\n",
    "eq2 = V.subs(x, l-1) \n",
    "\n",
    "eq3 = M.subs(x, -1)\n",
    "eq4 = M.subs(x, l)\n",
    "\n",
    "eq5 = W.subs(x, 0)\n",
    "eq6 = phi.subs(x, 0)\n",
    "\n",
    "eq7 = N.subs(x, -1)\n",
    "eq8 = N.subs(x, l-1)\n",
    "\n",
    "## nog een vergelijking noding\n",
    "\n",
    "equations = [eq1 - 0, eq2 + F* (sp.sin(theta)), eq3 - 0, eq4 - 0, eq5 - 0, eq6 - 0, eq7 - 0, eq8 + F * sp.cos(theta)]\n",
    "solutions = sp.solve(equations, (Cv, Cm, Cphi, Cw, Av, MA, Cn, Ah))"
   ]
  },
  {
   "cell_type": "code",
   "execution_count": 23,
   "metadata": {},
   "outputs": [
    {
     "name": "stdout",
     "output_type": "stream",
     "text": [
      "{Cv: 0.0, Cm: 0.0, Cphi: 0.0, Cw: 0.0, Av: 0.0, MA: -20.0000000000000, Cn: 0.0, Ah: 20.0000000000000}\n"
     ]
    }
   ],
   "source": [
    "print(solutions)"
   ]
  },
  {
   "cell_type": "code",
   "execution_count": 24,
   "metadata": {},
   "outputs": [
    {
     "name": "stdout",
     "output_type": "stream",
     "text": [
      "V: -0.223606797749979*Ah*SingularityFunction(x, 0, 0) + 0.894427190999916*Av*SingularityFunction(x, 0, 0) + 0.894427190999916*Bv*SingularityFunction(x, 4, 0) + Cv - 0.894427190999916*MA*SingularityFunction(x, 0, -1) + 2.23606797749979*SingularityFunction(x, 2.0, 0)\n",
      "M: -0.25*Ah*SingularityFunction(x, 0, 1) + 1.0*Av*SingularityFunction(x, 0, 1) + 1.0*Bv*SingularityFunction(x, 4, 1) + Cm + 1.11803398874989*Cv*x - 1.0*MA*SingularityFunction(x, 0, 0) + 2.5*SingularityFunction(x, 2.0, 1)\n",
      "phi: -0.125*Ah*SingularityFunction(x, 0, 2) + 0.5*Av*SingularityFunction(x, 0, 2) + 0.5*Bv*SingularityFunction(x, 4, 2) + Cm*x + Cphi + 0.559016994374947*Cv*x**2 - 1.0*MA*SingularityFunction(x, 0, 1) + 1.25*SingularityFunction(x, 2.0, 2)\n",
      "W: 0.0416666666666667*Ah*SingularityFunction(x, 0, 3) - 0.166666666666667*Av*SingularityFunction(x, 0, 3) - 0.166666666666667*Bv*SingularityFunction(x, 4, 3) - Cm*x**2/2 - Cphi*x - 0.186338998124982*Cv*x**3 + Cw + 0.5*MA*SingularityFunction(x, 0, 2) - 0.416666666666667*SingularityFunction(x, 2.0, 3)\n",
      "N: -0.447213595499958*Ah*SingularityFunction(x, 0, 0) - 0.447213595499958*Av*SingularityFunction(x, 0, 0) - 0.447213595499958*Bv*SingularityFunction(x, 4, 0) + Cn + 0.447213595499958*MA*SingularityFunction(x, 0, -1) + 4.47213595499958*SingularityFunction(x, 2.0, 0)\n"
     ]
    }
   ],
   "source": [
    "## voorbeeld 4\n",
    "\n",
    "Cv, Cm, Cphi, Cw, Av, MA, Cn, Ah, Bv = sp.symbols('Cv, Cm, Cphi, Cw, Av, MA, Cn, Ah , Bv')\n",
    "\n",
    "# Define F and l\n",
    "F = 10  ## KN\n",
    "l = 4   ## m\n",
    "theta = sp.atan(1/2)\n",
    "\n",
    "# Define qz and qx\n",
    "qz = - Av * sf(x, 0, -1) + MA * sf(x, 0, -2) - Bv * sf(x, l, -1)\n",
    "qx = Ah * sf(x, 0, -1) - F * sf(x, l/2, -1)\n",
    "\n",
    "# Define V as a function of x\n",
    "V1 = sp.cos(theta) * sp.integrate( -qz , x)\n",
    "V2 = sp.integrate(-(sp.sin(theta) * sp.tan(theta) * qx), x) + Cv\n",
    "V = V1 + V2\n",
    "\n",
    "# Define M as an integral of V\n",
    "M = sp.integrate(V / sp.cos(theta), x) + Cm\n",
    "\n",
    "# Define phi as an integral of M\n",
    "phi = sp.integrate(M, x) + Cphi\n",
    "\n",
    "# Define W as an integral of -phi\n",
    "W = sp.integrate(-phi, x) + Cw\n",
    "\n",
    "N = sp.integrate(sp.sin(theta) * (-qx + qz), x) + Cn\n",
    "\n",
    "# Display the expressions\n",
    "print(\"V:\", V)\n",
    "print(\"M:\", M)\n",
    "print(\"phi:\", phi)\n",
    "print(\"W:\", W)\n",
    "print(\"N:\", N)"
   ]
  },
  {
   "cell_type": "code",
   "execution_count": 25,
   "metadata": {},
   "outputs": [],
   "source": [
    "eq1 = V.subs(x, -1)\n",
    "eq2 = V.subs(x, l+1) \n",
    "\n",
    "eq3 = M.subs(x, -1)\n",
    "eq4 = M.subs(x, l)\n",
    "\n",
    "eq5 = W.subs(x, 0)\n",
    "eq6 = phi.subs(x, 0)\n",
    "\n",
    "eq7 = N.subs(x, -1)\n",
    "eq8 = W.subs(x, l)\n",
    "\n",
    "##  eq9 =  nog een vergelijking noding\n",
    "equations = [eq1 - 0, eq2 - 0 , eq3 - 0, eq4 - 0, eq5 - 0, eq6 - 0, eq7 - 0, eq8 -0 ] #eq9  ]\n",
    "solutions = sp.solve(equations, (Cv, Cm, Cphi, Cw, Av, MA, Cn, Ah, Bv))"
   ]
  },
  {
   "cell_type": "code",
   "execution_count": 26,
   "metadata": {},
   "outputs": [
    {
     "name": "stdout",
     "output_type": "stream",
     "text": [
      "{Bv: -0.781250000000000, Cn: 0.0, Cphi: 0.0, Cw: 0.0, MA: -1.87500000000000, Cm: 0.0, Av: 0.25*Ah - 1.71875, Cv: 0.0}\n"
     ]
    }
   ],
   "source": [
    "print(solutions)"
   ]
  },
  {
   "cell_type": "code",
   "execution_count": null,
   "metadata": {},
   "outputs": [],
   "source": []
  }
 ],
 "metadata": {
  "kernelspec": {
   "display_name": "Python 3",
   "language": "python",
   "name": "python3"
  },
  "language_info": {
   "codemirror_mode": {
    "name": "ipython",
    "version": 3
   },
   "file_extension": ".py",
   "mimetype": "text/x-python",
   "name": "python",
   "nbconvert_exporter": "python",
   "pygments_lexer": "ipython3",
   "version": "3.8.3"
  }
 },
 "nbformat": 4,
 "nbformat_minor": 4
}
