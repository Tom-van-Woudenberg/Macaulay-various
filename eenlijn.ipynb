{
 "cells": [
  {
   "cell_type": "code",
   "execution_count": 6,
   "metadata": {},
   "outputs": [],
   "source": [
    "import sympy as sp\n",
    "sf = sp.SingularityFunction"
   ]
  },
  {
   "cell_type": "code",
   "execution_count": 9,
   "metadata": {},
   "outputs": [
    {
     "data": {
      "text/latex": [
       "$\\displaystyle A_{m} {\\left\\langle s \\right\\rangle}^{-2} + A_{v} {\\left\\langle s \\right\\rangle}^{-1} + B_{v} {\\left\\langle s - 10 \\right\\rangle}^{-1} + C_{v1} {\\left\\langle s - 10 \\right\\rangle}^{-1} + C_{v2} {\\left\\langle s - 15 \\right\\rangle}^{-1} - 20 {\\left\\langle s - 20 \\right\\rangle}^{-1}$"
      ],
      "text/plain": [
       "A_m*SingularityFunction(s, 0, -2) + A_v*SingularityFunction(s, 0, -1) + B_v*SingularityFunction(s, 10, -1) + C_{v1}*SingularityFunction(s, 10, -1) + C_{v2}*SingularityFunction(s, 15, -1) - 20*SingularityFunction(s, 20, -1)"
      ]
     },
     "metadata": {},
     "output_type": "display_data"
    }
   ],
   "source": [
    "# Define the symbols\n",
    "Av, Am, Bv, Cv1, Cv2, Ch1, Ch2, Ah = sp.symbols('A_v, A_m, B_v, C_{v1}, C_{v2}, C_{h1}, C_{h2}, A_h')\n",
    "s = sp.symbols('s')\n",
    "# Define the equations\n",
    "qz = Av * sf(s,0,-1) + Am * sf(s,0,-2) + Bv * sf(s,10,-1) + Cv1 * sf(s,10,-1) + \\\n",
    "    Cv2 * sf(s,15,-1) - 20 * sf(s,20,-1)\n",
    "display(qz)\n"
   ]
  },
  {
   "cell_type": "code",
   "execution_count": 61,
   "metadata": {},
   "outputs": [
    {
     "data": {
      "text/latex": [
       "$\\displaystyle A_{h} {\\left\\langle s \\right\\rangle}^{-1} + C_{h1} {\\left\\langle s - 10 \\right\\rangle}^{-1} + C_{h2} {\\left\\langle s - 15 \\right\\rangle}^{-1}$"
      ],
      "text/plain": [
       "A_h*SingularityFunction(s, 0, -1) + C_{h1}*SingularityFunction(s, 10, -1) + C_{h2}*SingularityFunction(s, 15, -1)"
      ]
     },
     "metadata": {},
     "output_type": "display_data"
    }
   ],
   "source": [
    "qx  = Ah * sf(s,0,-1) + Ch1 * sf(s,10,-1) + Ch2 * sf(s,15,-1)\n",
    "display(qx)\n"
   ]
  },
  {
   "cell_type": "code",
   "execution_count": 62,
   "metadata": {},
   "outputs": [],
   "source": [
    "C1, C2, C3, C4, C5, C6 = sp.symbols('C1, C2, C3, C4, C5, C6')"
   ]
  },
  {
   "cell_type": "code",
   "execution_count": 63,
   "metadata": {},
   "outputs": [
    {
     "data": {
      "text/latex": [
       "$\\displaystyle \\frac{A_{m} {\\left\\langle s \\right\\rangle}^{2}}{2} + \\frac{A_{v} {\\left\\langle s \\right\\rangle}^{3}}{6} + \\frac{B_{v} {\\left\\langle s - 10 \\right\\rangle}^{3}}{6} - \\frac{C_{1} s^{3}}{6} - \\frac{C_{2} s^{2}}{2} - C_{3} s + C_{4} + \\frac{C_{v1} {\\left\\langle s - 10 \\right\\rangle}^{3}}{6} + \\frac{C_{v2} {\\left\\langle s - 15 \\right\\rangle}^{3}}{6} - \\frac{10 {\\left\\langle s - 20 \\right\\rangle}^{3}}{3}$"
      ],
      "text/plain": [
       "A_m*SingularityFunction(s, 0, 2)/2 + A_v*SingularityFunction(s, 0, 3)/6 + B_v*SingularityFunction(s, 10, 3)/6 - C1*s**3/6 - C2*s**2/2 - C3*s + C4 + C_{v1}*SingularityFunction(s, 10, 3)/6 + C_{v2}*SingularityFunction(s, 15, 3)/6 - 10*SingularityFunction(s, 20, 3)/3"
      ]
     },
     "metadata": {},
     "output_type": "display_data"
    }
   ],
   "source": [
    "V = -sp.integrate(qz,s) + C1\n",
    "M = sp.integrate(V,s) + C2\n",
    "kappa = M #/ EI\n",
    "phi = sp.integrate(kappa,s)+C3\n",
    "w = - sp.integrate(phi,s)+C4\n",
    "N = -sp.integrate(qx,s)+C5\n",
    "u = -sp.integrate(N,s)+C6\n",
    "display(w)"
   ]
  },
  {
   "cell_type": "code",
   "execution_count": 64,
   "metadata": {},
   "outputs": [],
   "source": [
    "eq1 = sp.Eq(u.subs(s,0),0)\n",
    "eq2 = sp.Eq(w.subs(s,0),0)\n",
    "eq3 = sp.Eq(phi.subs(s,0),0)\n",
    "eq4 = sp.Eq(M.subs(s,-1),0)\n",
    "eq5 = sp.Eq(V.subs(s,-1),0)\n",
    "eq6 = sp.Eq(N.subs(s,-1),0)\n",
    "eq7 = sp.Eq(N.subs(s,21),0)\n",
    "eq8 = sp.Eq(M.subs(s,21),0)\n",
    "eq9 = sp.Eq(V.subs(s,21),0)"
   ]
  },
  {
   "cell_type": "code",
   "execution_count": 65,
   "metadata": {},
   "outputs": [],
   "source": [
    "eq10 = sp.Eq(w.subs(s,10),0)\n",
    "eq11 = sp.Eq(V.subs(s,10-0.01),-V.subs(s,10+0.01))\n",
    "eq12 = sp.Eq(N.subs(s,10-0.01),-N.subs(s,10+0.01))\n",
    "eq13 = sp.Eq(V.subs(s,15+0.01),N.subs(s,15-0.01))\n",
    "eq14 = sp.Eq(N.subs(s,15-0.01),-V.subs(s,15+0.01))"
   ]
  },
  {
   "cell_type": "code",
   "execution_count": 66,
   "metadata": {},
   "outputs": [
    {
     "data": {
      "text/plain": [
       "[]"
      ]
     },
     "execution_count": 66,
     "metadata": {},
     "output_type": "execute_result"
    }
   ],
   "source": [
    "sp.solve([eq1,eq2,eq3,eq4,eq5,eq6,eq7,eq8,eq9,eq10,eq11,eq12,eq13,eq14],[C1, C2, C3, C4, C5, C6, Av, Am, Bv, Cv1, Cv2, Ch1, Ch2, Ah])"
   ]
  },
  {
   "cell_type": "code",
   "execution_count": null,
   "metadata": {},
   "outputs": [],
   "source": [
    "M.subs"
   ]
  },
  {
   "cell_type": "code",
   "execution_count": null,
   "metadata": {},
   "outputs": [],
   "source": []
  }
 ],
 "metadata": {
  "kernelspec": {
   "display_name": "base",
   "language": "python",
   "name": "python3"
  },
  "language_info": {
   "codemirror_mode": {
    "name": "ipython",
    "version": 3
   },
   "file_extension": ".py",
   "mimetype": "text/x-python",
   "name": "python",
   "nbconvert_exporter": "python",
   "pygments_lexer": "ipython3",
   "version": "3.9.18"
  }
 },
 "nbformat": 4,
 "nbformat_minor": 2
}
