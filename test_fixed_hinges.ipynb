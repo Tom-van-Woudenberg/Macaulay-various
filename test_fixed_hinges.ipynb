{
 "cells": [
  {
   "cell_type": "code",
   "execution_count": 38,
   "metadata": {},
   "outputs": [],
   "source": [
    "import numpy as np\n",
    "import matplotlib.pyplot as plt\n",
    "from sympy.physics.continuum_mechanics.beam import Beam\n",
    "from sympy import Symbol\n",
    "E = Symbol('E')\n",
    "E = 200\n",
    "I = Symbol('I')\n",
    "I = 1000\n",
    "b = Beam(15, E, I)\n",
    "r0, m0 = b.apply_support(10, type='fixed')\n",
    "r10 = b.apply_support(0, type='roller')\n",
    "b.apply_load(10, 5, -1)\n",
    "p0 = b.apply_rotation_hinge(10)\n"
   ]
  },
  {
   "cell_type": "code",
   "execution_count": 39,
   "metadata": {},
   "outputs": [
    {
     "data": {
      "text/latex": [
       "$\\displaystyle M_{10} {\\left\\langle x - 10 \\right\\rangle}^{-2} + 200000 P_{10} {\\left\\langle x - 10 \\right\\rangle}^{-3} + R_{0} {\\left\\langle x \\right\\rangle}^{-1} + R_{10} {\\left\\langle x - 10 \\right\\rangle}^{-1} + 10 {\\left\\langle x - 5 \\right\\rangle}^{-1}$"
      ],
      "text/plain": [
       "M_10*SingularityFunction(x, 10, -2) + 200000*P_10*SingularityFunction(x, 10, -3) + R_0*SingularityFunction(x, 0, -1) + R_10*SingularityFunction(x, 10, -1) + 10*SingularityFunction(x, 5, -1)"
      ]
     },
     "execution_count": 39,
     "metadata": {},
     "output_type": "execute_result"
    }
   ],
   "source": [
    "b.load"
   ]
  },
  {
   "cell_type": "code",
   "execution_count": 40,
   "metadata": {},
   "outputs": [
    {
     "data": {
      "text/plain": [
       "{R_10: 6000*P_10 - 55/8, M_10: 60000*P_10 - 75/4, R_0: -6000*P_10 - 25/8}"
      ]
     },
     "execution_count": 40,
     "metadata": {},
     "output_type": "execute_result"
    }
   ],
   "source": [
    "b.solve_for_reaction_loads(r0, m0, r10)\n",
    "b.reaction_loads"
   ]
  },
  {
   "cell_type": "code",
   "execution_count": 42,
   "metadata": {},
   "outputs": [
    {
     "data": {
      "text/latex": [
       "$\\displaystyle - 200000 P_{10} {\\left\\langle x - 10 \\right\\rangle}^{-1} + \\left(\\frac{55}{8} - 6000 P_{10}\\right) {\\left\\langle x - 10 \\right\\rangle}^{1} + \\left(\\frac{75}{4} - 60000 P_{10}\\right) {\\left\\langle x - 10 \\right\\rangle}^{0} + \\left(6000 P_{10} + \\frac{25}{8}\\right) {\\left\\langle x \\right\\rangle}^{1} - 10 {\\left\\langle x - 5 \\right\\rangle}^{1}$"
      ],
      "text/plain": [
       "-200000*P_10*SingularityFunction(x, 10, -1) + (55/8 - 6000*P_10)*SingularityFunction(x, 10, 1) + (75/4 - 60000*P_10)*SingularityFunction(x, 10, 0) + (6000*P_10 + 25/8)*SingularityFunction(x, 0, 1) - 10*SingularityFunction(x, 5, 1)"
      ]
     },
     "execution_count": 42,
     "metadata": {},
     "output_type": "execute_result"
    }
   ],
   "source": [
    "b.bending_moment()"
   ]
  },
  {
   "cell_type": "code",
   "execution_count": 43,
   "metadata": {},
   "outputs": [
    {
     "ename": "ValueError",
     "evalue": "Value of P_10 was not passed.",
     "output_type": "error",
     "traceback": [
      "\u001b[1;31m---------------------------------------------------------------------------\u001b[0m",
      "\u001b[1;31mValueError\u001b[0m                                Traceback (most recent call last)",
      "Cell \u001b[1;32mIn[43], line 1\u001b[0m\n\u001b[1;32m----> 1\u001b[0m \u001b[43mb\u001b[49m\u001b[38;5;241;43m.\u001b[39;49m\u001b[43mplot_deflection\u001b[49m\u001b[43m(\u001b[49m\u001b[43m)\u001b[49m\n",
      "File \u001b[1;32mc:\\Users\\tomvanwoudenbe\\Anaconda3\\envs\\sympy-dev\\Lib\\site-packages\\sympy\\physics\\continuum_mechanics\\beam.py:1706\u001b[0m, in \u001b[0;36mBeam.plot_deflection\u001b[1;34m(self, subs)\u001b[0m\n\u001b[0;32m   1704\u001b[0m         \u001b[38;5;28;01mcontinue\u001b[39;00m\n\u001b[0;32m   1705\u001b[0m     \u001b[38;5;28;01mif\u001b[39;00m sym \u001b[38;5;129;01mnot\u001b[39;00m \u001b[38;5;129;01min\u001b[39;00m subs:\n\u001b[1;32m-> 1706\u001b[0m         \u001b[38;5;28;01mraise\u001b[39;00m \u001b[38;5;167;01mValueError\u001b[39;00m(\u001b[38;5;124m'\u001b[39m\u001b[38;5;124mValue of \u001b[39m\u001b[38;5;132;01m%s\u001b[39;00m\u001b[38;5;124m was not passed.\u001b[39m\u001b[38;5;124m'\u001b[39m \u001b[38;5;241m%\u001b[39msym)\n\u001b[0;32m   1707\u001b[0m \u001b[38;5;28;01mif\u001b[39;00m \u001b[38;5;28mself\u001b[39m\u001b[38;5;241m.\u001b[39mlength \u001b[38;5;129;01min\u001b[39;00m subs:\n\u001b[0;32m   1708\u001b[0m     length \u001b[38;5;241m=\u001b[39m subs[\u001b[38;5;28mself\u001b[39m\u001b[38;5;241m.\u001b[39mlength]\n",
      "\u001b[1;31mValueError\u001b[0m: Value of P_10 was not passed."
     ]
    }
   ],
   "source": []
  },
  {
   "cell_type": "code",
   "execution_count": null,
   "metadata": {},
   "outputs": [],
   "source": []
  }
 ],
 "metadata": {
  "kernelspec": {
   "display_name": "sympy-dev",
   "language": "python",
   "name": "python3"
  },
  "language_info": {
   "codemirror_mode": {
    "name": "ipython",
    "version": 3
   },
   "file_extension": ".py",
   "mimetype": "text/x-python",
   "name": "python",
   "nbconvert_exporter": "python",
   "pygments_lexer": "ipython3",
   "version": "3.12.3"
  }
 },
 "nbformat": 4,
 "nbformat_minor": 2
}
